{
 "cells": [
  {
   "cell_type": "markdown",
   "metadata": {},
   "source": [
    "# Flickr Logos Dataset - 32 preparing"
   ]
  },
  {
   "cell_type": "markdown",
   "metadata": {},
   "source": [
    "Check count of *.jpg and .txt* files\n",
    "First of all, import needed libraries for Python"
   ]
  },
  {
   "cell_type": "code",
   "execution_count": 59,
   "metadata": {},
   "outputs": [],
   "source": [
    "from __future__ import print_function, division\n",
    "from skimage import io, transform\n",
    "from random import randint\n",
    "import shutil\n",
    "\n",
    "import os, uuid, glob, warnings\n",
    "import numpy as np\n",
    "\n",
    "warnings.filterwarnings(\"ignore\")"
   ]
  },
  {
   "cell_type": "markdown",
   "metadata": {},
   "source": [
    "Main variables of pathes"
   ]
  },
  {
   "cell_type": "code",
   "execution_count": 76,
   "metadata": {},
   "outputs": [],
   "source": [
    "ORIGINAL_DATA = '../data/fl32/classes/masks'\n",
    "ORIGINAL_ANNOTATON = '../data/fl32/annotation.txt'\n",
    "COLLECTED_DATA = '../data/fl32/original'"
   ]
  },
  {
   "cell_type": "code",
   "execution_count": 80,
   "metadata": {},
   "outputs": [],
   "source": [
    "out_writer = open(ORIGINAL_ANNOTATON, 'w')\n",
    "for root,dirs,files in os.walk(ORIGINAL_DATA):\n",
    "    for file in files:\n",
    "        if file.endswith('.txt'):\n",
    "            tmp = root.split('masks')\n",
    "            original_img_root = tmp[0]+'jpg'+tmp[1]\n",
    "            dir = root.split('/')[-1]\n",
    "            txt_file = os.path.join(root, file)\n",
    "            f = open(txt_file, \"r\")\n",
    "            content = f.readlines()[1:]\n",
    "            content = [x.split('\\r\\n')[0].split(' ') for x in content]\n",
    "            f_name = file.split('.b')[0]\n",
    "            img = os.path.join(original_img_root, f_name)\n",
    "            shutil.copy(img, os.path.join(COLLECTED_DATA,f_name))\n",
    "            for item in content:\n",
    "                note = \"{} {} {} {} {} {} \\n\".format(f_name, dir, item[0], item[1], item[2], item[3])\n",
    "                out_writer.write(note)\n",
    "            f.close()\n",
    "out_writer.close()"
   ]
  },
  {
   "cell_type": "code",
   "execution_count": null,
   "metadata": {},
   "outputs": [],
   "source": []
  }
 ],
 "metadata": {
  "kernelspec": {
   "display_name": "Python 2",
   "language": "python",
   "name": "python2"
  },
  "language_info": {
   "codemirror_mode": {
    "name": "ipython",
    "version": 2
   },
   "file_extension": ".py",
   "mimetype": "text/x-python",
   "name": "python",
   "nbconvert_exporter": "python",
   "pygments_lexer": "ipython2",
   "version": "2.7.14"
  }
 },
 "nbformat": 4,
 "nbformat_minor": 2
}
