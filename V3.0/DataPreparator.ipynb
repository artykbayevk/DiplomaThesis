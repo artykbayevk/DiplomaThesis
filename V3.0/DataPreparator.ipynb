{
 "cells": [
  {
   "cell_type": "markdown",
   "metadata": {},
   "source": [
    "# This code need for creating datasets from FL-27,FL-32 and FL-47."
   ]
  },
  {
   "cell_type": "markdown",
   "metadata": {},
   "source": [
    "## Importing libraries"
   ]
  },
  {
   "cell_type": "code",
   "execution_count": 1,
   "metadata": {},
   "outputs": [],
   "source": [
    "from __future__ import print_function, division\n",
    "from skimage import io, transform\n",
    "from random import randint\n",
    "import shutil\n",
    "\n",
    "import os, uuid, glob, warnings\n",
    "import numpy as np\n",
    "\n",
    "warnings.filterwarnings(\"ignore\")"
   ]
  },
  {
   "cell_type": "markdown",
   "metadata": {},
   "source": [
    "## Preparator for FL27"
   ]
  },
  {
   "cell_type": "code",
   "execution_count": 5,
   "metadata": {},
   "outputs": [],
   "source": [
    "ORIGINAL_DATA_DIR = '../data/fl27/original'\n",
    "CROPPED_DATA_DIR = '../data/fl27/images'\n",
    "ORIGINAL_ANNOTATION = '../data/fl27/annotation.txt'\n",
    "CROPPED_ANNOTATION = '../data/fl27/crop_annotation.txt'\n",
    "\n",
    "TRAIN_SET = '../annotations/trainset.txt'\n",
    "TEST_SET = '../annotations/testset.txt'"
   ]
  },
  {
   "cell_type": "code",
   "execution_count": 6,
   "metadata": {},
   "outputs": [],
   "source": [
    "original_files = glob.glob(os.path.join(ORIGINAL_DATA_DIR, '*.jpg'))"
   ]
  },
  {
   "cell_type": "code",
   "execution_count": 7,
   "metadata": {},
   "outputs": [
    {
     "name": "stdout",
     "output_type": "stream",
     "text": [
      "1079\n"
     ]
    }
   ],
   "source": [
    "print(len(original_files))"
   ]
  },
  {
   "cell_type": "code",
   "execution_count": 8,
   "metadata": {},
   "outputs": [],
   "source": [
    "def read_from_annotation(path):\n",
    "    file = open(path, \"r\")\n",
    "    content = file.readlines()\n",
    "    new = [x.split(\" \")[:-1] for x in content]\n",
    "    return new"
   ]
  },
  {
   "cell_type": "code",
   "execution_count": 9,
   "metadata": {},
   "outputs": [],
   "source": [
    "def prepare_labels(annotaton_path):\n",
    "    arr = read_from_annotation(annotaton_path)\n",
    "    labels = []\n",
    "    for item in (arr):\n",
    "        l = item[1]\n",
    "        if l not in labels:\n",
    "            labels.append(l)\n",
    "        else:\n",
    "            continue\n",
    "    return labels\n",
    "LABELS = prepare_labels(ORIGINAL_ANNOTATION)"
   ]
  },
  {
   "cell_type": "code",
   "execution_count": 10,
   "metadata": {},
   "outputs": [
    {
     "name": "stdout",
     "output_type": "stream",
     "text": [
      "['Adidas', 'Apple', 'BMW', 'Citroen', 'Cocacola', 'DHL', 'Fedex', 'Ferrari', 'Ford', 'Google', 'Heineken', 'HP', 'Intel', 'McDonalds', 'Mini', 'Nbc', 'Nike', 'Pepsi', 'Porsche', 'Puma', 'RedBull', 'Sprite', 'Starbucks', 'Texaco', 'Unicef', 'Vodafone', 'Yahoo']\n"
     ]
    }
   ],
   "source": [
    "print(LABELS)"
   ]
  },
  {
   "cell_type": "code",
   "execution_count": 12,
   "metadata": {},
   "outputs": [],
   "source": [
    "def create_resized_crops(input_annotation, input_directory,\n",
    "                        output_annotation, output_directory):\n",
    "    annotation = read_from_annotation(input_annotation)\n",
    "    output_annotation = open(output_annotation, 'w')\n",
    "    for i, data in zip(range(len(annotation)),annotation):\n",
    "        img_name = data[0]\n",
    "        img_path = os.path.join(input_directory, img_name)\n",
    "        image = io.imread(img_path)\n",
    "        positions = data[-4:]\n",
    "        x1 = int(positions[0])\n",
    "        y1 = int(positions[1])\n",
    "        x2 = int(positions[2])\n",
    "        y2 = int(positions[3])\n",
    "\n",
    "        if x1 > x2:\n",
    "            tmp = x1\n",
    "            x1 = x2\n",
    "            x2 = tmp\n",
    "\n",
    "        if y1 > y2:\n",
    "            tmp = y1\n",
    "            y1 = y2\n",
    "            y2 = tmp\n",
    "        \n",
    "        \n",
    "            \n",
    "        target = data[1]\n",
    "#         fl32 - dataset\n",
    "        crop_resizer(image, target, x1,x1+x2,y1,y1+y2,output_annotation, output_directory)\n",
    "# \n",
    "#         fl27 - dataset\n",
    "#         crop_resizer(image, target, x1,x2,y1,y2,output_annotation, output_directory)\n",
    "#         crop_resizer(image, target, x1-40,x2,y1,y2,output_annotation, output_directory)\n",
    "#         crop_resizer(image, target, x1,x2+40,y1,y2,output_annotation, output_directory)\n",
    "#         crop_resizer(image, target, x1,x2,y1-40,y2,output_annotation, output_directory)\n",
    "#         crop_resizer(image, target, x1,x2,y1,y2+40,output_annotation, output_directory)\n",
    "\n",
    "def crop_resizer(image,target, x1,x2,y1,y2, writer,directory):\n",
    "    crop_img = image[y1:y2, x1:x2]\n",
    "    file_name = str(uuid.uuid4().hex)+'.jpg'\n",
    "    try:\n",
    "        try:\n",
    "            resized = transform.resize(crop_img,(224, 224))\n",
    "            io.imsave(os.path.join(directory, file_name), resized)\n",
    "            note = \"{} {} \\n\".format(file_name, target)\n",
    "            writer.write(note)\n",
    "        except ValueError:\n",
    "            pass\n",
    "    except IndexError:\n",
    "        pass\n",
    "create_resized_crops(ORIGINAL_ANNOTATION, ORIGINAL_DATA_DIR, CROPPED_ANNOTATION, CROPPED_DATA_DIR)"
   ]
  },
  {
   "cell_type": "markdown",
   "metadata": {},
   "source": [
    "Creating test and train sets for creating main train/val dataset"
   ]
  },
  {
   "cell_type": "code",
   "execution_count": 15,
   "metadata": {},
   "outputs": [
    {
     "name": "stdout",
     "output_type": "stream",
     "text": [
      "3536\n",
      "1000\n"
     ]
    }
   ],
   "source": [
    "import random\n",
    "def train_test_split(crop_ann_path,  test_size = 1000):\n",
    "    train = read_from_annotation(crop_ann_path)\n",
    "    test = []\n",
    "    for i in range(test_size):\n",
    "        randIndex = randint(0,len(train)-1)\n",
    "        test.append(train[randIndex])\n",
    "        del(train[randIndex])\n",
    "    \n",
    "    print(len(train))\n",
    "    print(len(test))\n",
    "    random.shuffle(train)\n",
    "    \n",
    "    \n",
    "    trainset = open(TRAIN_SET, \"w\")\n",
    "    testset = open(TEST_SET, \"w\")\n",
    "    \n",
    "    for item in train:\n",
    "        tmp = \"{} {} \\n\".format(item[0], item[1])\n",
    "        trainset.write(tmp)\n",
    "    trainset.close()\n",
    "\n",
    "    for item in test:\n",
    "        tmp = \"{} {} \\n\".format(item[0], item[1])\n",
    "        testset.write(tmp)\n",
    "    testset.close()\n",
    "train_test_split(CROPPED_ANNOTATION)"
   ]
  }
 ],
 "metadata": {
  "kernelspec": {
   "display_name": "Python 2",
   "language": "python",
   "name": "python2"
  },
  "language_info": {
   "codemirror_mode": {
    "name": "ipython",
    "version": 2
   },
   "file_extension": ".py",
   "mimetype": "text/x-python",
   "name": "python",
   "nbconvert_exporter": "python",
   "pygments_lexer": "ipython2",
   "version": "2.7.12"
  }
 },
 "nbformat": 4,
 "nbformat_minor": 2
}
