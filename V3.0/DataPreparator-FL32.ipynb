{
 "cells": [
  {
   "cell_type": "markdown",
   "metadata": {},
   "source": [
    "# DATA PREPARATOR FOR FL 32 dataset"
   ]
  },
  {
   "cell_type": "markdown",
   "metadata": {},
   "source": [
    "importing need libraries"
   ]
  },
  {
   "cell_type": "code",
   "execution_count": 3,
   "metadata": {},
   "outputs": [],
   "source": [
    "from __future__ import print_function, division\n",
    "from skimage import io, transform\n",
    "from random import randint\n",
    "import shutil\n",
    "\n",
    "import os, uuid, glob, warnings\n",
    "import numpy as np\n",
    "\n",
    "warnings.filterwarnings(\"ignore\")"
   ]
  },
  {
   "cell_type": "markdown",
   "metadata": {},
   "source": [
    "#### PATHES FOR FILES IN FL32"
   ]
  },
  {
   "cell_type": "code",
   "execution_count": 82,
   "metadata": {},
   "outputs": [],
   "source": [
    "ORIGINAL_DATA_DIR = '../data/fl32/originals'\n",
    "CROPPED_DATA_DIR = '../data/fl32/images'\n",
    "ORIGINAL_ANNOTATION = '../data/fl32/annotation.txt'\n",
    "CROPPED_ANNOTATION = '../data/fl32/crop_annotation.txt'\n",
    "\n",
    "TRAIN_SET = '../annotations/trainset32.txt'\n",
    "TEST_SET = '../annotations/testset32.txt'"
   ]
  },
  {
   "cell_type": "markdown",
   "metadata": {},
   "source": [
    "\n",
    "['x y width height\\r\\n', '89 213 134 152\\r\\n']"
   ]
  },
  {
   "cell_type": "markdown",
   "metadata": {},
   "source": [
    "Создание annotation.txt файл с названиями, классами и их позициями\n",
    "\n",
    "Так же нужно запустить copy_no_logo.sh файл для того что скопировать изображения без логотипов"
   ]
  },
  {
   "cell_type": "code",
   "execution_count": 47,
   "metadata": {},
   "outputs": [],
   "source": [
    "path = '../data/fl32/classes/masks'\n",
    "f1 = open(ORIGINAL_ANNOTATION,'w')\n",
    "for root, dirs, files in os.walk(path):\n",
    "    if(len(files)!=0):\n",
    "        for item in files:\n",
    "            f = open(os.path.join(root,item), 'r')\n",
    "            content = f.readlines()[1:]\n",
    "            content = [x.split('\\r\\n')[:-1] for x in content]\n",
    "            content = [x[0].split(' ') for x in content]\n",
    "            for line in content:\n",
    "                a = item.split('.bboxes.txt')[0]\n",
    "                b = root.split('/')[-1]\n",
    "                c = line\n",
    "                into = '{} {} {} \\n'.format(a,b,' '.join(c))\n",
    "                f1.write(into)\n",
    "            f.close()\n",
    "f1.close()"
   ]
  },
  {
   "cell_type": "markdown",
   "metadata": {},
   "source": [
    "Reading from annotation file"
   ]
  },
  {
   "cell_type": "code",
   "execution_count": 52,
   "metadata": {},
   "outputs": [],
   "source": [
    "def read_from_annotation(path):\n",
    "    file = open(path, \"r\")\n",
    "    content = file.readlines()\n",
    "    new = [x.split(\" \")[:-1] for x in content]\n",
    "    return new\n",
    "\n",
    "# x = read_from_annotation(ORIGINAL_ANNOTATION)\n",
    "# print(len(x))"
   ]
  },
  {
   "cell_type": "markdown",
   "metadata": {},
   "source": [
    "Preparing labels array"
   ]
  },
  {
   "cell_type": "code",
   "execution_count": 55,
   "metadata": {},
   "outputs": [
    {
     "name": "stdout",
     "output_type": "stream",
     "text": [
      "['ferrari', 'ups', 'cocacola', 'guiness', 'adidas', 'aldi', 'texaco', 'nvidia', 'rittersport', 'paulaner', 'dhl', 'bmw', 'fosters', 'milka', 'starbucks', 'pepsi', 'singha', 'apple', 'fedex', 'carlsberg', 'hp', 'chimay', 'google', 'tsingtao', 'corona', 'ford', 'esso', 'shell', 'stellaartois', 'becks', 'heineken', 'erdinger']\n",
      "32\n"
     ]
    }
   ],
   "source": [
    "def prepare_labels(annotaton_path):\n",
    "    arr = read_from_annotation(annotaton_path)\n",
    "    labels = []\n",
    "    for item in (arr):\n",
    "        l = item[1]\n",
    "        if l not in labels:\n",
    "            labels.append(l)\n",
    "        else:\n",
    "            continue\n",
    "    return labels\n",
    "LABELS = prepare_labels(ORIGINAL_ANNOTATION)\n",
    "print(LABELS)\n",
    "print(len(LABELS))"
   ]
  },
  {
   "cell_type": "markdown",
   "metadata": {},
   "source": [
    "Creating cropped resized images\n",
    "Run delete_cropped_images.sh file deleting last files from images directory "
   ]
  },
  {
   "cell_type": "code",
   "execution_count": 74,
   "metadata": {},
   "outputs": [],
   "source": [
    "def create_resized_crops(input_annotation, input_directory,\n",
    "                        output_annotation, output_directory):\n",
    "    annotation = read_from_annotation(input_annotation)\n",
    "    output_annotation = open(output_annotation, 'w')\n",
    "    for i, data in zip(range(len(annotation)),annotation):\n",
    "        img_name = data[0]\n",
    "        img_path = os.path.join(input_directory, img_name)\n",
    "        image = io.imread(img_path)\n",
    "        positions = data[-4:]\n",
    "        x1 = int(positions[0])\n",
    "        y1 = int(positions[1])\n",
    "        x2 = int(positions[2])\n",
    "        y2 = int(positions[3])\n",
    "\n",
    "        if x1 > x2:\n",
    "            tmp = x1\n",
    "            x1 = x2\n",
    "            x2 = tmp\n",
    "\n",
    "        if y1 > y2:\n",
    "            tmp = y1\n",
    "            y1 = y2\n",
    "            y2 = tmp\n",
    "        \n",
    "        \n",
    "            \n",
    "        target = data[1]\n",
    "#         fl32 - dataset\n",
    "        crop_resizer(image, target, x1,x1+x2,y1,y1+y2,output_annotation, output_directory)\n",
    "# \n",
    "#         fl27 - dataset\n",
    "#         crop_resizer(image, target, x1,x2,y1,y2,output_annotation, output_directory)\n",
    "#         crop_resizer(image, target, x1-40,x2,y1,y2,output_annotation, output_directory)\n",
    "#         crop_resizer(image, target, x1,x2+40,y1,y2,output_annotation, output_directory)\n",
    "#         crop_resizer(image, target, x1,x2,y1-40,y2,output_annotation, output_directory)\n",
    "#         crop_resizer(image, target, x1,x2,y1,y2+40,output_annotation, output_directory)\n",
    "\n",
    "def crop_resizer(image,target, x1,x2,y1,y2, writer,directory):\n",
    "    crop_img = image[y1:y2, x1:x2]\n",
    "    file_name = str(uuid.uuid4().hex)+'.jpg'\n",
    "    try:\n",
    "        try:\n",
    "            resized = transform.resize(crop_img,(480, 480))\n",
    "            io.imsave(os.path.join(directory, file_name), resized)\n",
    "            note = \"{} {} \\n\".format(file_name, target)\n",
    "            writer.write(note)\n",
    "        except ValueError:\n",
    "            pass\n",
    "    except IndexError:\n",
    "        pass\n",
    "create_resized_crops(ORIGINAL_ANNOTATION, ORIGINAL_DATA_DIR, CROPPED_ANNOTATION, CROPPED_DATA_DIR)"
   ]
  },
  {
   "cell_type": "code",
   "execution_count": 64,
   "metadata": {},
   "outputs": [],
   "source": [
    "NO_LOGO_DIRECTORY = '../data/fl32/classes/no-logo'"
   ]
  },
  {
   "cell_type": "code",
   "execution_count": 69,
   "metadata": {},
   "outputs": [
    {
     "data": {
      "text/plain": [
       "6000"
      ]
     },
     "execution_count": 69,
     "metadata": {},
     "output_type": "execute_result"
    }
   ],
   "source": [
    "NO_LOGO_DATA = glob.glob(os.path.join(NO_LOGO_DIRECTORY,'*.jpg'))\n",
    "len(NO_LOGO_DATA)"
   ]
  },
  {
   "cell_type": "markdown",
   "metadata": {},
   "source": [
    "Запускать только под предлогом смерти"
   ]
  },
  {
   "cell_type": "code",
   "execution_count": 76,
   "metadata": {},
   "outputs": [],
   "source": [
    "images = []\n",
    "for item in NO_LOGO_DATA:\n",
    "    img_name = item.split('/')[-1]\n",
    "    im = io.imread(item)\n",
    "    resized = transform.resize(im,(480, 480))\n",
    "    io.imsave( os.path.join(CROPPED_DATA_DIR,img_name), resized)\n",
    "    images.append([img_name, 'nologo'])"
   ]
  },
  {
   "cell_type": "code",
   "execution_count": 77,
   "metadata": {},
   "outputs": [
    {
     "data": {
      "text/plain": [
       "6000"
      ]
     },
     "execution_count": 77,
     "metadata": {},
     "output_type": "execute_result"
    }
   ],
   "source": [
    "len(images)"
   ]
  },
  {
   "cell_type": "code",
   "execution_count": 81,
   "metadata": {},
   "outputs": [],
   "source": [
    "no_logo_annotation = '../data/fl32/nologo.txt'\n",
    "f2 = open(no_logo_annotation, 'w')\n",
    "for item in images:\n",
    "    note = \"{} {} \\n\".format(item[0], item[1])\n",
    "    f2.write(note)\n",
    "f2.close()"
   ]
  },
  {
   "cell_type": "code",
   "execution_count": 83,
   "metadata": {},
   "outputs": [
    {
     "name": "stdout",
     "output_type": "stream",
     "text": [
      "7404\n",
      "2000\n"
     ]
    }
   ],
   "source": [
    "import random\n",
    "def train_test_split(crop_ann_path,  test_size = 1000):\n",
    "    train = read_from_annotation(crop_ann_path)\n",
    "    test = []\n",
    "    for i in range(test_size):\n",
    "        randIndex = randint(0,len(train)-1)\n",
    "        test.append(train[randIndex])\n",
    "        del(train[randIndex])\n",
    "    \n",
    "    print(len(train))\n",
    "    print(len(test))\n",
    "    random.shuffle(train)\n",
    "    \n",
    "    \n",
    "    trainset = open(TRAIN_SET, \"w\")\n",
    "    testset = open(TEST_SET, \"w\")\n",
    "    \n",
    "    for item in train:\n",
    "        tmp = \"{} {} \\n\".format(item[0], item[1])\n",
    "        trainset.write(tmp)\n",
    "    trainset.close()\n",
    "\n",
    "    for item in test:\n",
    "        tmp = \"{} {} \\n\".format(item[0], item[1])\n",
    "        testset.write(tmp)\n",
    "    testset.close()\n",
    "train_test_split(CROPPED_ANNOTATION,2000)"
   ]
  }
 ],
 "metadata": {
  "kernelspec": {
   "display_name": "Python 2",
   "language": "python",
   "name": "python2"
  },
  "language_info": {
   "codemirror_mode": {
    "name": "ipython",
    "version": 2
   },
   "file_extension": ".py",
   "mimetype": "text/x-python",
   "name": "python",
   "nbconvert_exporter": "python",
   "pygments_lexer": "ipython2",
   "version": "2.7.14"
  }
 },
 "nbformat": 4,
 "nbformat_minor": 2
}
